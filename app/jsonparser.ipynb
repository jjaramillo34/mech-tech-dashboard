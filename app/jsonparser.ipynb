{
 "cells": [
  {
   "cell_type": "code",
   "execution_count": 23,
   "metadata": {},
   "outputs": [
    {
     "data": {
      "text/html": [
       "<div>\n",
       "<style scoped>\n",
       "    .dataframe tbody tr th:only-of-type {\n",
       "        vertical-align: middle;\n",
       "    }\n",
       "\n",
       "    .dataframe tbody tr th {\n",
       "        vertical-align: top;\n",
       "    }\n",
       "\n",
       "    .dataframe thead th {\n",
       "        text-align: right;\n",
       "    }\n",
       "</style>\n",
       "<table border=\"1\" class=\"dataframe\">\n",
       "  <thead>\n",
       "    <tr style=\"text-align: right;\">\n",
       "      <th></th>\n",
       "      <th>DamageId</th>\n",
       "      <th>Id</th>\n",
       "      <th>TimePeriod</th>\n",
       "      <th>projectworkflowstageid</th>\n",
       "      <th>x</th>\n",
       "      <th>y</th>\n",
       "    </tr>\n",
       "  </thead>\n",
       "  <tbody>\n",
       "    <tr>\n",
       "      <th>0</th>\n",
       "      <td>141564</td>\n",
       "      <td>84190</td>\n",
       "      <td>14</td>\n",
       "      <td>3</td>\n",
       "      <td>-7.361847e+06</td>\n",
       "      <td>2.082255e+06</td>\n",
       "    </tr>\n",
       "    <tr>\n",
       "      <th>1</th>\n",
       "      <td>141560</td>\n",
       "      <td>84191</td>\n",
       "      <td>14</td>\n",
       "      <td>2</td>\n",
       "      <td>-7.364430e+06</td>\n",
       "      <td>2.084082e+06</td>\n",
       "    </tr>\n",
       "    <tr>\n",
       "      <th>2</th>\n",
       "      <td>141547</td>\n",
       "      <td>84192</td>\n",
       "      <td>14</td>\n",
       "      <td>2</td>\n",
       "      <td>-7.367619e+06</td>\n",
       "      <td>2.072941e+06</td>\n",
       "    </tr>\n",
       "    <tr>\n",
       "      <th>3</th>\n",
       "      <td>138968</td>\n",
       "      <td>84193</td>\n",
       "      <td>14</td>\n",
       "      <td>6</td>\n",
       "      <td>-7.361095e+06</td>\n",
       "      <td>2.083253e+06</td>\n",
       "    </tr>\n",
       "    <tr>\n",
       "      <th>4</th>\n",
       "      <td>139118</td>\n",
       "      <td>84195</td>\n",
       "      <td>14</td>\n",
       "      <td>2</td>\n",
       "      <td>-7.337521e+06</td>\n",
       "      <td>2.081274e+06</td>\n",
       "    </tr>\n",
       "  </tbody>\n",
       "</table>\n",
       "</div>"
      ],
      "text/plain": [
       "   DamageId     Id  TimePeriod  projectworkflowstageid             x  \\\n",
       "0    141564  84190          14                       3 -7.361847e+06   \n",
       "1    141560  84191          14                       2 -7.364430e+06   \n",
       "2    141547  84192          14                       2 -7.367619e+06   \n",
       "3    138968  84193          14                       6 -7.361095e+06   \n",
       "4    139118  84195          14                       2 -7.337521e+06   \n",
       "\n",
       "              y  \n",
       "0  2.082255e+06  \n",
       "1  2.084082e+06  \n",
       "2  2.072941e+06  \n",
       "3  2.083253e+06  \n",
       "4  2.081274e+06  "
      ]
     },
     "execution_count": 23,
     "metadata": {},
     "output_type": "execute_result"
    }
   ],
   "source": [
    "import requests\n",
    "import pandas as pd\n",
    "\n",
    "links = [\n",
    "    'https://arcgis.recovery.pr/serverprd/rest/services/TP_QPR_prod/MapServer/0/query?f=json&cacheHint=true&resultOffset=0&resultRecordCount=1000&where=TimePeriod%3D14&orderByFields=Id&outFields=DamageId%2CId%2CTimePeriod%2Cprojectworkflowstageid&outSR=102100&spatialRel=esriSpatialRelIntersects',\n",
    "    'https://arcgis.recovery.pr/serverprd/rest/services/TP_QPR_prod/MapServer/0/query?f=json&cacheHint=true&resultOffset=1000&resultRecordCount=1000&where=TimePeriod%3D14&orderByFields=Id&outFields=DamageId%2CId%2CTimePeriod%2Cprojectworkflowstageid&outSR=102100&spatialRel=esriSpatialRelIntersects',\n",
    "    'https://arcgis.recovery.pr/serverprd/rest/services/TP_QPR_prod/MapServer/0/query?f=json&cacheHint=true&resultOffset=2000&resultRecordCount=1000&where=TimePeriod%3D14&orderByFields=Id&outFields=DamageId%2CId%2CTimePeriod%2Cprojectworkflowstageid&outSR=102100&spatialRel=esriSpatialRelIntersects',\n",
    "    'https://arcgis.recovery.pr/serverprd/rest/services/TP_QPR_prod/MapServer/0/query?f=json&cacheHint=true&resultOffset=3000&resultRecordCount=1000&where=TimePeriod%3D14&orderByFields=Id&outFields=DamageId%2CId%2CTimePeriod%2Cprojectworkflowstageid&outSR=102100&spatialRel=esriSpatialRelIntersects',\n",
    "    'https://arcgis.recovery.pr/serverprd/rest/services/TP_QPR_prod/MapServer/0/query?f=json&cacheHint=true&resultOffset=4000&resultRecordCount=1000&where=TimePeriod%3D14&orderByFields=Id&outFields=DamageId%2CId%2CTimePeriod%2Cprojectworkflowstageid&outSR=102100&spatialRel=esriSpatialRelIntersects',\n",
    "    'https://arcgis.recovery.pr/serverprd/rest/services/TP_QPR_prod/MapServer/0/query?f=json&cacheHint=true&resultOffset=5000&resultRecordCount=1000&where=TimePeriod%3D14&orderByFields=Id&outFields=DamageId%2CId%2CTimePeriod%2Cprojectworkflowstageid&outSR=102100&spatialRel=esriSpatialRelIntersects',\n",
    "    'https://arcgis.recovery.pr/serverprd/rest/services/TP_QPR_prod/MapServer/0/query?f=json&cacheHint=true&resultOffset=6000&resultRecordCount=1000&where=TimePeriod%3D14&orderByFields=Id&outFields=DamageId%2CId%2CTimePeriod%2Cprojectworkflowstageid&outSR=102100&spatialRel=esriSpatialRelIntersects',\n",
    "    'https://arcgis.recovery.pr/serverprd/rest/services/TP_QPR_prod/MapServer/0/query?f=json&cacheHint=true&resultOffset=7000&resultRecordCount=1000&where=TimePeriod%3D14&orderByFields=Id&outFields=DamageId%2CId%2CTimePeriod%2Cprojectworkflowstageid&outSR=102100&spatialRel=esriSpatialRelIntersects'\n",
    "    \n",
    "    ]\n",
    "\n",
    "doc_dict = {}\n",
    "data = []\n",
    "\n",
    "for link in links:\n",
    "    r = requests.get(link)\n",
    "    for i in r.json()['features']:\n",
    "        #print(i['geometry']['x'], i['geometry']['y'])\n",
    "        doc_dict['DamageId'] = i['attributes']['DamageId']\n",
    "        doc_dict['Id'] = i['attributes']['Id']\n",
    "        doc_dict['TimePeriod'] = i['attributes']['TimePeriod']\n",
    "        doc_dict['projectworkflowstageid'] = i['attributes']['projectworkflowstageid']\n",
    "        try:\n",
    "            doc_dict['x'] = i['geometry']['x']\n",
    "            doc_dict['y'] = i['geometry']['y']\n",
    "        except Exception as e:\n",
    "            pass\n",
    "            #print(e)\n",
    "            #doc_dict['geometry'] = None\n",
    "        #doc_dict['geometry'] = i['ge\n",
    "        data.append(doc_dict)\n",
    "        doc_dict = {}\n",
    "    \n",
    "df = pd.DataFrame(data)\n",
    "df.head()\n",
    "\n"
   ]
  },
  {
   "cell_type": "code",
   "execution_count": 52,
   "metadata": {},
   "outputs": [
    {
     "ename": "TypeError",
     "evalue": "string indices must be integers",
     "output_type": "error",
     "traceback": [
      "\u001b[0;31m---------------------------------------------------------------------------\u001b[0m",
      "\u001b[0;31mTypeError\u001b[0m                                 Traceback (most recent call last)",
      "Cell \u001b[0;32mIn [52], line 12\u001b[0m\n\u001b[1;32m     10\u001b[0m json_str \u001b[39m=\u001b[39m json\u001b[39m.\u001b[39mdumps(j_data)\n\u001b[1;32m     11\u001b[0m \u001b[39mfor\u001b[39;00m i \u001b[39min\u001b[39;00m json_str:\n\u001b[0;32m---> 12\u001b[0m     \u001b[39mprint\u001b[39m(i[\u001b[39m'\u001b[39;49m\u001b[39mtitle\u001b[39;49m\u001b[39m'\u001b[39;49m])\n\u001b[1;32m     13\u001b[0m     \u001b[39m#new_dict.update({'title': i['title']})\u001b[39;00m\n\u001b[1;32m     14\u001b[0m \n\u001b[1;32m     15\u001b[0m     \u001b[39m#new_dict['title'] = i['title']\u001b[39;00m\n\u001b[1;32m     17\u001b[0m     new_data\u001b[39m.\u001b[39mappend(new_dict)\n",
      "\u001b[0;31mTypeError\u001b[0m: string indices must be integers"
     ]
    }
   ],
   "source": [
    "import json\n",
    "\n",
    "new_dict = {}\n",
    "new_data = []\n",
    "df = df.head(20)\n",
    "for row in df.iterrows():\n",
    "    link = f'https://recovery.pr.gov/tpbackend_prod/api/qpr/row-detail/{str(row[1][\"TimePeriod\"])}/{str(row[1][\"DamageId\"])}?lang=es'\n",
    "    r = requests.get(link)\n",
    "    j_data = r.json()\n",
    "    json_str = json.dumps(j_data)\n",
    "    for i in json_str:\n",
    "        print(i['title'])\n",
    "        #new_dict.update({'title': i['title']})\n",
    "\n",
    "        #new_dict['title'] = i['title']\n",
    "        \n",
    "        new_data.append(new_dict)\n",
    "        new_dict = {}\n",
    "            \n",
    "new_df = pd.DataFrame(new_data)\n",
    "new_df.head()"
   ]
  },
  {
   "cell_type": "code",
   "execution_count": 134,
   "metadata": {},
   "outputs": [
    {
     "ename": "TypeError",
     "evalue": "string indices must be integers",
     "output_type": "error",
     "traceback": [
      "\u001b[0;31m---------------------------------------------------------------------------\u001b[0m",
      "\u001b[0;31mTypeError\u001b[0m                                 Traceback (most recent call last)",
      "Cell \u001b[0;32mIn [134], line 10\u001b[0m\n\u001b[1;32m      7\u001b[0m json_obj \u001b[39m=\u001b[39m json\u001b[39m.\u001b[39mloads(json_str)\n\u001b[1;32m      9\u001b[0m \u001b[39mfor\u001b[39;00m i \u001b[39min\u001b[39;00m json_obj:\n\u001b[0;32m---> 10\u001b[0m     \u001b[39mfor\u001b[39;00m j \u001b[39min\u001b[39;00m i[\u001b[39m'\u001b[39;49m\u001b[39mtitle\u001b[39;49m\u001b[39m'\u001b[39;49m]:\n\u001b[1;32m     11\u001b[0m         \u001b[39mprint\u001b[39m(j)\n",
      "\u001b[0;31mTypeError\u001b[0m: string indices must be integers"
     ]
    }
   ],
   "source": [
    "import requests\n",
    "\n",
    "link = 'https://recovery.pr.gov/tpbackend_prod/api/qpr/row-detail/14.0/141564.0?lang=es'\n",
    "r = requests.get(link)\n",
    "\n",
    "json_str = json.dumps(r.json())\n",
    "json_obj = json.loads(json_str)\n",
    "\n",
    "for i in json_obj:\n",
    "    for j in i['title']:\n",
    "        print(j)"
   ]
  },
  {
   "cell_type": "code",
   "execution_count": 91,
   "metadata": {},
   "outputs": [
    {
     "data": {
      "text/plain": [
       "str"
      ]
     },
     "execution_count": 91,
     "metadata": {},
     "output_type": "execute_result"
    }
   ],
   "source": [
    "type(json_object)"
   ]
  },
  {
   "cell_type": "code",
   "execution_count": 93,
   "metadata": {},
   "outputs": [
    {
     "data": {
      "text/plain": [
       "dict"
      ]
     },
     "execution_count": 93,
     "metadata": {},
     "output_type": "execute_result"
    }
   ],
   "source": [
    "type(obj)"
   ]
  },
  {
   "cell_type": "code",
   "execution_count": 94,
   "metadata": {},
   "outputs": [
    {
     "data": {
      "text/plain": [
       "'Pedro Cuco Ortiz Indoor Basketball Court'"
      ]
     },
     "execution_count": 94,
     "metadata": {},
     "output_type": "execute_result"
    }
   ],
   "source": [
    "obj['title']"
   ]
  },
  {
   "cell_type": "code",
   "execution_count": null,
   "metadata": {},
   "outputs": [],
   "source": []
  }
 ],
 "metadata": {
  "kernelspec": {
   "display_name": "yolo_test",
   "language": "python",
   "name": "python3"
  },
  "language_info": {
   "codemirror_mode": {
    "name": "ipython",
    "version": 3
   },
   "file_extension": ".py",
   "mimetype": "text/x-python",
   "name": "python",
   "nbconvert_exporter": "python",
   "pygments_lexer": "ipython3",
   "version": "3.8.13"
  },
  "orig_nbformat": 4,
  "vscode": {
   "interpreter": {
    "hash": "da510f09ffd8434453ca4df3d5334adc4262b499e0b9b3a8201efaa313912484"
   }
  }
 },
 "nbformat": 4,
 "nbformat_minor": 2
}
